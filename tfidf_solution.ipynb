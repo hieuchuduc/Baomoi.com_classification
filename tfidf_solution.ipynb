{
 "cells": [
  {
   "cell_type": "code",
   "execution_count": 1,
   "metadata": {},
   "outputs": [],
   "source": [
    "import pandas as pd\n",
    "import matplotlib.pyplot as plt\n",
    "import numpy as np"
   ]
  },
  {
   "cell_type": "markdown",
   "metadata": {},
   "source": [
    "# Dataset overview"
   ]
  },
  {
   "cell_type": "code",
   "execution_count": 2,
   "metadata": {},
   "outputs": [],
   "source": [
    "baomoi = pd.read_excel('baomoi.xlsx')"
   ]
  },
  {
   "cell_type": "code",
   "execution_count": 3,
   "metadata": {},
   "outputs": [
    {
     "name": "stdout",
     "output_type": "stream",
     "text": [
      "<class 'pandas.core.frame.DataFrame'>\n",
      "Int64Index: 19289 entries, 1 to 19289\n",
      "Data columns (total 8 columns):\n",
      "article    19289 non-null object\n",
      "content    18820 non-null object\n",
      "link       19289 non-null object\n",
      "source     19289 non-null object\n",
      "summary    19152 non-null object\n",
      "tags       19289 non-null object\n",
      "time       19289 non-null object\n",
      "title      19289 non-null object\n",
      "dtypes: object(8)\n",
      "memory usage: 1.3+ MB\n"
     ]
    }
   ],
   "source": [
    "baomoi.info()"
   ]
  },
  {
   "cell_type": "code",
   "execution_count": 4,
   "metadata": {},
   "outputs": [],
   "source": [
    "baomoi.dropna(inplace=True)"
   ]
  },
  {
   "cell_type": "code",
   "execution_count": 5,
   "metadata": {},
   "outputs": [],
   "source": [
    "baomoi = baomoi[baomoi.article.isin(['Thế giới', 'Kinh tế', 'Giải trí', 'Đời sống', 'Thể thao'])].iloc[:5000]"
   ]
  },
  {
   "cell_type": "code",
   "execution_count": 6,
   "metadata": {},
   "outputs": [
    {
     "data": {
      "text/html": [
       "<div>\n",
       "<style scoped>\n",
       "    .dataframe tbody tr th:only-of-type {\n",
       "        vertical-align: middle;\n",
       "    }\n",
       "\n",
       "    .dataframe tbody tr th {\n",
       "        vertical-align: top;\n",
       "    }\n",
       "\n",
       "    .dataframe thead th {\n",
       "        text-align: right;\n",
       "    }\n",
       "</style>\n",
       "<table border=\"1\" class=\"dataframe\">\n",
       "  <thead>\n",
       "    <tr style=\"text-align: right;\">\n",
       "      <th></th>\n",
       "      <th>article</th>\n",
       "      <th>content</th>\n",
       "      <th>link</th>\n",
       "      <th>source</th>\n",
       "      <th>summary</th>\n",
       "      <th>tags</th>\n",
       "      <th>time</th>\n",
       "      <th>title</th>\n",
       "    </tr>\n",
       "  </thead>\n",
       "  <tbody>\n",
       "    <tr>\n",
       "      <th>1</th>\n",
       "      <td>Thế giới</td>\n",
       "      <td>Hệ thống phòng thủ tên lửa S-400 Triumf của N...</td>\n",
       "      <td>https://baomoi.com/tho-nhi-ky-che-ten-lua-patr...</td>\n",
       "      <td>Tin Tức TTXVN</td>\n",
       "      <td>Thượng tướng Không quân Thổ Nhĩ Kỳ nghỉ hưu Er...</td>\n",
       "      <td>['S-400', 'Ankara', 'Thổ nhĩ kỳ', 'Patriot Mỹ'...</td>\n",
       "      <td>12/06/19 05:46 GMT+7</td>\n",
       "      <td>Thổ Nhĩ Kỳ chê tên lửa Patriot Mỹ không bằng '...</td>\n",
       "    </tr>\n",
       "    <tr>\n",
       "      <th>2</th>\n",
       "      <td>Thế giới</td>\n",
       "      <td>Mỹ - Thổ Nhĩ Kỳ bất đồng về vùng an toàn ở bi...</td>\n",
       "      <td>https://baomoi.com/quan-he-dong-minh-my-tho-nh...</td>\n",
       "      <td>Hà Nội Mới</td>\n",
       "      <td>Mối quan hệ nhiều thăng trầm giữa Mỹ và Thổ Nh...</td>\n",
       "      <td>['S-400', 'Ankara', 'Thổ nhĩ kỳ', 'F-35 Lightn...</td>\n",
       "      <td>15/06/19 07:45 GMT+7</td>\n",
       "      <td>Quan hệ đồng minh Mỹ - Thổ Nhĩ Kỳ: Lại nổi són...</td>\n",
       "    </tr>\n",
       "    <tr>\n",
       "      <th>3</th>\n",
       "      <td>Thế giới</td>\n",
       "      <td>Hệ thống S-400. \"Một quốc gia không thể chỉ d...</td>\n",
       "      <td>https://baomoi.com/tranh-cai-s-400-tho-nhi-ky-...</td>\n",
       "      <td>Người Đưa Tin</td>\n",
       "      <td>Ngoại trưởng Thổ Nhĩ Kỳ Mevlut Cavusoglu hôm 1...</td>\n",
       "      <td>['S-400', 'Ankara', 'Thổ nhĩ kỳ', 'Phòng không...</td>\n",
       "      <td>14/06/19 18:15 GMT+7</td>\n",
       "      <td>Tranh cãi S-400, Thổ Nhĩ Kỳ tuyên bố 'rắn': 'M...</td>\n",
       "    </tr>\n",
       "    <tr>\n",
       "      <th>4</th>\n",
       "      <td>Thế giới</td>\n",
       "      <td>Ấn Độ đang có ý định mua S-400 của Nga. Việc ...</td>\n",
       "      <td>https://baomoi.com/khong-phai-tho-nhi-ky-my-ba...</td>\n",
       "      <td>Dân Việt</td>\n",
       "      <td>Mỹ không khuyến khích các nước mua S-400, nếu ...</td>\n",
       "      <td>['S-400', 'Thổ nhĩ kỳ', 'Phòng không', 'Trừng ...</td>\n",
       "      <td>14/06/19 08:29 GMT+7</td>\n",
       "      <td>Không phải Thổ Nhĩ Kỳ, Mỹ bất ngờ đe dọa nước ...</td>\n",
       "    </tr>\n",
       "    <tr>\n",
       "      <th>5</th>\n",
       "      <td>Thế giới</td>\n",
       "      <td>Hệ thống phòng không S-400 của Nga. Trước đó ...</td>\n",
       "      <td>https://baomoi.com/nong-tho-nhi-ky-lo-ngai-vi-...</td>\n",
       "      <td>Dân Việt</td>\n",
       "      <td>Bộ trưởng Quốc phòng Thổ Nhĩ Kỳ Hulusi Akar đi...</td>\n",
       "      <td>['S-400', 'Thổ nhĩ kỳ', 'F-35 Lightning II', '...</td>\n",
       "      <td>13/06/19 21:30 GMT+7</td>\n",
       "      <td>Nóng: Thổ Nhĩ Kỳ lo ngại vì bức thư của Lầu nă...</td>\n",
       "    </tr>\n",
       "    <tr>\n",
       "      <th>6</th>\n",
       "      <td>Thế giới</td>\n",
       "      <td>Thổ Nhĩ Kỳ vừa lên tiếng chỉ trích một bức th...</td>\n",
       "      <td>https://baomoi.com/bi-my-doa-cat-dut-chuong-tr...</td>\n",
       "      <td>VOV</td>\n",
       "      <td>Thổ Nhĩ Kỳ tuyên bố giữ vững lập trường bất ch...</td>\n",
       "      <td>['S-400', 'Ankara', 'Thổ nhĩ kỳ', 'F-35 Lightn...</td>\n",
       "      <td>13/06/19 10:05 GMT+7</td>\n",
       "      <td>Bị Mỹ dọa cắt đứt chương trình F-35, Thổ Nhĩ K...</td>\n",
       "    </tr>\n",
       "    <tr>\n",
       "      <th>7</th>\n",
       "      <td>Thế giới</td>\n",
       "      <td>Hệ thống tên lửa phòng không S-400. Theo cơ q...</td>\n",
       "      <td>https://baomoi.com/my-dang-xem-xet-dua-ra-ba-g...</td>\n",
       "      <td>GD&amp;TĐ</td>\n",
       "      <td>Chính quyền Mỹ đang xem xét khả năng đưa ra ba...</td>\n",
       "      <td>['S-400', 'Ankara', 'Thổ nhĩ kỳ', 'F-35 Lightn...</td>\n",
       "      <td>20/06/19 07:20 GMT+7</td>\n",
       "      <td>Mỹ đang xem xét đưa ra ba gói trừng phạt mới c...</td>\n",
       "    </tr>\n",
       "    <tr>\n",
       "      <th>8</th>\n",
       "      <td>Thế giới</td>\n",
       "      <td>Hôm nay (19/6), Bloomberg dẫn 3 nguồn tin giấ...</td>\n",
       "      <td>https://baomoi.com/quyet-mua-s-400-cua-nga-my-...</td>\n",
       "      <td>Infonet</td>\n",
       "      <td>Chính phủ Mỹ được cho đang cân nhắc 3 gói trừn...</td>\n",
       "      <td>['S-400', 'Ankara', 'Thổ nhĩ kỳ', 'F-35 Lightn...</td>\n",
       "      <td>19/06/19 16:53 GMT+7</td>\n",
       "      <td>Quyết mua S-400 của Nga, Mỹ trút 'cơn mưa trừn...</td>\n",
       "    </tr>\n",
       "    <tr>\n",
       "      <th>9</th>\n",
       "      <td>Thế giới</td>\n",
       "      <td>Thương vụ mua S-400: Mỹ tiếp tục đe dọa trừng...</td>\n",
       "      <td>https://baomoi.com/khong-phai-tho-nhi-ky-my-ca...</td>\n",
       "      <td>Infonet</td>\n",
       "      <td>Phó Trợ lý Bộ trưởng Ngoại giao Mỹ phụ trách v...</td>\n",
       "      <td>['S-400', 'Alice Wells', 'Thổ nhĩ kỳ', 'Phòng ...</td>\n",
       "      <td>14/06/19 11:00 GMT+7</td>\n",
       "      <td>Không phải Thổ Nhĩ Kỳ, Mỹ cảnh báo đồng minh q...</td>\n",
       "    </tr>\n",
       "    <tr>\n",
       "      <th>29</th>\n",
       "      <td>Thế giới</td>\n",
       "      <td>“Thổ Nhĩ Kỳ không coi hệ thống Patriot mà Mỹ ...</td>\n",
       "      <td>https://baomoi.com/tuong-tho-nhi-ky-ten-lua-ph...</td>\n",
       "      <td>Infonet</td>\n",
       "      <td>Ông Erdogan Karakus, trung tướng Không quân Th...</td>\n",
       "      <td>['S-400', 'Ankara', 'Thổ nhĩ kỳ', 'F-35 Lightn...</td>\n",
       "      <td>11/06/19 15:52 GMT+7</td>\n",
       "      <td>Tướng Thổ Nhĩ Kỳ: Tên lửa phòng không Mỹ 'khôn...</td>\n",
       "    </tr>\n",
       "    <tr>\n",
       "      <th>30</th>\n",
       "      <td>Thế giới</td>\n",
       "      <td>Động thái của Mỹ là nhằm gia tăng thêm sức ép...</td>\n",
       "      <td>https://baomoi.com/lau-nam-goc-choi-ran-loai-p...</td>\n",
       "      <td>Infonet</td>\n",
       "      <td>Lầu Năm Góc xác nhận các phi công Thổ Nhĩ Kỳ b...</td>\n",
       "      <td>['S-400', 'Ankara', 'Thổ nhĩ kỳ', 'F-35 Lightn...</td>\n",
       "      <td>11/06/19 14:00 GMT+7</td>\n",
       "      <td>Lầu Năm Góc 'chơi rắn' loại phi công Thổ Nhĩ K...</td>\n",
       "    </tr>\n",
       "    <tr>\n",
       "      <th>31</th>\n",
       "      <td>Thế giới</td>\n",
       "      <td>Hệ thống tên lửa phòng không S-400 Triumf của...</td>\n",
       "      <td>https://baomoi.com/tho-nhi-ky-chi-trich-nghi-q...</td>\n",
       "      <td>Tin Tức TTXVN</td>\n",
       "      <td>Nghị quyết của Quốc hội Mỹ kêu gọi trừng phạt ...</td>\n",
       "      <td>['S-400', 'Ankara', 'Thổ nhĩ kỳ', 'NATO', 'Phò...</td>\n",
       "      <td>11/06/19 18:25 GMT+7</td>\n",
       "      <td>Thổ Nhĩ Kỳ chỉ trích nghị quyết của Quốc hội M...</td>\n",
       "    </tr>\n",
       "    <tr>\n",
       "      <th>32</th>\n",
       "      <td>Thế giới</td>\n",
       "      <td>Theo RT, căn cứ không quân Hmeimim của Nga tạ...</td>\n",
       "      <td>https://baomoi.com/chien-su-syria-can-cu-hmeim...</td>\n",
       "      <td>Người Đưa Tin</td>\n",
       "      <td>Căn cứ không quân Hmeimim của Nga tại Syria lạ...</td>\n",
       "      <td>['Phiến quân', 'Syria', 'Viktor Kupchishin', '...</td>\n",
       "      <td>07/05/19 11:03 GMT+7</td>\n",
       "      <td>Chiến sự Syria: Căn cứ Hmeimim của Nga tiếp tụ...</td>\n",
       "    </tr>\n",
       "    <tr>\n",
       "      <th>33</th>\n",
       "      <td>Thế giới</td>\n",
       "      <td>Quân đội Syria trưng bày các loại vũ khí đạn ...</td>\n",
       "      <td>https://baomoi.com/phien-quan-chuan-bi-tan-con...</td>\n",
       "      <td>VietnamPlus</td>\n",
       "      <td>Các nhóm phiến quân tại Idlib và những vùng xu...</td>\n",
       "      <td>['HAMA', 'Quân đội Syria', 'SANA', 'Bắc Syria'...</td>\n",
       "      <td>05/05/19 19:53 GMT+7</td>\n",
       "      <td>Phiến quân chuẩn bị tấn công vào các vị trí qu...</td>\n",
       "    </tr>\n",
       "    <tr>\n",
       "      <th>34</th>\n",
       "      <td>Thế giới</td>\n",
       "      <td>Hãng tin AMN dẫn nguồn tin từ Idlib cho hay, ...</td>\n",
       "      <td>https://baomoi.com/quan-doi-nga-syria-hop-suc-...</td>\n",
       "      <td>Infonet</td>\n",
       "      <td>Lực lượng phiến quân ở tỉnh Idlib đã tấn công ...</td>\n",
       "      <td>['HAMA', 'Quân đội Syria', '', 'UAV', 'AMN', '...</td>\n",
       "      <td>24/05/19 08:31 GMT+7</td>\n",
       "      <td>Quân đội Nga – Syria hợp sức không kích, phiến...</td>\n",
       "    </tr>\n",
       "  </tbody>\n",
       "</table>\n",
       "</div>"
      ],
      "text/plain": [
       "     article                                            content  \\\n",
       "1   Thế giới   Hệ thống phòng thủ tên lửa S-400 Triumf của N...   \n",
       "2   Thế giới   Mỹ - Thổ Nhĩ Kỳ bất đồng về vùng an toàn ở bi...   \n",
       "3   Thế giới   Hệ thống S-400. \"Một quốc gia không thể chỉ d...   \n",
       "4   Thế giới   Ấn Độ đang có ý định mua S-400 của Nga. Việc ...   \n",
       "5   Thế giới   Hệ thống phòng không S-400 của Nga. Trước đó ...   \n",
       "6   Thế giới   Thổ Nhĩ Kỳ vừa lên tiếng chỉ trích một bức th...   \n",
       "7   Thế giới   Hệ thống tên lửa phòng không S-400. Theo cơ q...   \n",
       "8   Thế giới   Hôm nay (19/6), Bloomberg dẫn 3 nguồn tin giấ...   \n",
       "9   Thế giới   Thương vụ mua S-400: Mỹ tiếp tục đe dọa trừng...   \n",
       "29  Thế giới   “Thổ Nhĩ Kỳ không coi hệ thống Patriot mà Mỹ ...   \n",
       "30  Thế giới   Động thái của Mỹ là nhằm gia tăng thêm sức ép...   \n",
       "31  Thế giới   Hệ thống tên lửa phòng không S-400 Triumf của...   \n",
       "32  Thế giới   Theo RT, căn cứ không quân Hmeimim của Nga tạ...   \n",
       "33  Thế giới   Quân đội Syria trưng bày các loại vũ khí đạn ...   \n",
       "34  Thế giới   Hãng tin AMN dẫn nguồn tin từ Idlib cho hay, ...   \n",
       "\n",
       "                                                 link         source  \\\n",
       "1   https://baomoi.com/tho-nhi-ky-che-ten-lua-patr...  Tin Tức TTXVN   \n",
       "2   https://baomoi.com/quan-he-dong-minh-my-tho-nh...     Hà Nội Mới   \n",
       "3   https://baomoi.com/tranh-cai-s-400-tho-nhi-ky-...  Người Đưa Tin   \n",
       "4   https://baomoi.com/khong-phai-tho-nhi-ky-my-ba...       Dân Việt   \n",
       "5   https://baomoi.com/nong-tho-nhi-ky-lo-ngai-vi-...       Dân Việt   \n",
       "6   https://baomoi.com/bi-my-doa-cat-dut-chuong-tr...            VOV   \n",
       "7   https://baomoi.com/my-dang-xem-xet-dua-ra-ba-g...          GD&TĐ   \n",
       "8   https://baomoi.com/quyet-mua-s-400-cua-nga-my-...        Infonet   \n",
       "9   https://baomoi.com/khong-phai-tho-nhi-ky-my-ca...        Infonet   \n",
       "29  https://baomoi.com/tuong-tho-nhi-ky-ten-lua-ph...        Infonet   \n",
       "30  https://baomoi.com/lau-nam-goc-choi-ran-loai-p...        Infonet   \n",
       "31  https://baomoi.com/tho-nhi-ky-chi-trich-nghi-q...  Tin Tức TTXVN   \n",
       "32  https://baomoi.com/chien-su-syria-can-cu-hmeim...  Người Đưa Tin   \n",
       "33  https://baomoi.com/phien-quan-chuan-bi-tan-con...    VietnamPlus   \n",
       "34  https://baomoi.com/quan-doi-nga-syria-hop-suc-...        Infonet   \n",
       "\n",
       "                                              summary  \\\n",
       "1   Thượng tướng Không quân Thổ Nhĩ Kỳ nghỉ hưu Er...   \n",
       "2   Mối quan hệ nhiều thăng trầm giữa Mỹ và Thổ Nh...   \n",
       "3   Ngoại trưởng Thổ Nhĩ Kỳ Mevlut Cavusoglu hôm 1...   \n",
       "4   Mỹ không khuyến khích các nước mua S-400, nếu ...   \n",
       "5   Bộ trưởng Quốc phòng Thổ Nhĩ Kỳ Hulusi Akar đi...   \n",
       "6   Thổ Nhĩ Kỳ tuyên bố giữ vững lập trường bất ch...   \n",
       "7   Chính quyền Mỹ đang xem xét khả năng đưa ra ba...   \n",
       "8   Chính phủ Mỹ được cho đang cân nhắc 3 gói trừn...   \n",
       "9   Phó Trợ lý Bộ trưởng Ngoại giao Mỹ phụ trách v...   \n",
       "29  Ông Erdogan Karakus, trung tướng Không quân Th...   \n",
       "30  Lầu Năm Góc xác nhận các phi công Thổ Nhĩ Kỳ b...   \n",
       "31  Nghị quyết của Quốc hội Mỹ kêu gọi trừng phạt ...   \n",
       "32  Căn cứ không quân Hmeimim của Nga tại Syria lạ...   \n",
       "33  Các nhóm phiến quân tại Idlib và những vùng xu...   \n",
       "34  Lực lượng phiến quân ở tỉnh Idlib đã tấn công ...   \n",
       "\n",
       "                                                 tags                  time  \\\n",
       "1   ['S-400', 'Ankara', 'Thổ nhĩ kỳ', 'Patriot Mỹ'...  12/06/19 05:46 GMT+7   \n",
       "2   ['S-400', 'Ankara', 'Thổ nhĩ kỳ', 'F-35 Lightn...  15/06/19 07:45 GMT+7   \n",
       "3   ['S-400', 'Ankara', 'Thổ nhĩ kỳ', 'Phòng không...  14/06/19 18:15 GMT+7   \n",
       "4   ['S-400', 'Thổ nhĩ kỳ', 'Phòng không', 'Trừng ...  14/06/19 08:29 GMT+7   \n",
       "5   ['S-400', 'Thổ nhĩ kỳ', 'F-35 Lightning II', '...  13/06/19 21:30 GMT+7   \n",
       "6   ['S-400', 'Ankara', 'Thổ nhĩ kỳ', 'F-35 Lightn...  13/06/19 10:05 GMT+7   \n",
       "7   ['S-400', 'Ankara', 'Thổ nhĩ kỳ', 'F-35 Lightn...  20/06/19 07:20 GMT+7   \n",
       "8   ['S-400', 'Ankara', 'Thổ nhĩ kỳ', 'F-35 Lightn...  19/06/19 16:53 GMT+7   \n",
       "9   ['S-400', 'Alice Wells', 'Thổ nhĩ kỳ', 'Phòng ...  14/06/19 11:00 GMT+7   \n",
       "29  ['S-400', 'Ankara', 'Thổ nhĩ kỳ', 'F-35 Lightn...  11/06/19 15:52 GMT+7   \n",
       "30  ['S-400', 'Ankara', 'Thổ nhĩ kỳ', 'F-35 Lightn...  11/06/19 14:00 GMT+7   \n",
       "31  ['S-400', 'Ankara', 'Thổ nhĩ kỳ', 'NATO', 'Phò...  11/06/19 18:25 GMT+7   \n",
       "32  ['Phiến quân', 'Syria', 'Viktor Kupchishin', '...  07/05/19 11:03 GMT+7   \n",
       "33  ['HAMA', 'Quân đội Syria', 'SANA', 'Bắc Syria'...  05/05/19 19:53 GMT+7   \n",
       "34  ['HAMA', 'Quân đội Syria', '', 'UAV', 'AMN', '...  24/05/19 08:31 GMT+7   \n",
       "\n",
       "                                                title  \n",
       "1   Thổ Nhĩ Kỳ chê tên lửa Patriot Mỹ không bằng '...  \n",
       "2   Quan hệ đồng minh Mỹ - Thổ Nhĩ Kỳ: Lại nổi són...  \n",
       "3   Tranh cãi S-400, Thổ Nhĩ Kỳ tuyên bố 'rắn': 'M...  \n",
       "4   Không phải Thổ Nhĩ Kỳ, Mỹ bất ngờ đe dọa nước ...  \n",
       "5   Nóng: Thổ Nhĩ Kỳ lo ngại vì bức thư của Lầu nă...  \n",
       "6   Bị Mỹ dọa cắt đứt chương trình F-35, Thổ Nhĩ K...  \n",
       "7   Mỹ đang xem xét đưa ra ba gói trừng phạt mới c...  \n",
       "8   Quyết mua S-400 của Nga, Mỹ trút 'cơn mưa trừn...  \n",
       "9   Không phải Thổ Nhĩ Kỳ, Mỹ cảnh báo đồng minh q...  \n",
       "29  Tướng Thổ Nhĩ Kỳ: Tên lửa phòng không Mỹ 'khôn...  \n",
       "30  Lầu Năm Góc 'chơi rắn' loại phi công Thổ Nhĩ K...  \n",
       "31  Thổ Nhĩ Kỳ chỉ trích nghị quyết của Quốc hội M...  \n",
       "32  Chiến sự Syria: Căn cứ Hmeimim của Nga tiếp tụ...  \n",
       "33  Phiến quân chuẩn bị tấn công vào các vị trí qu...  \n",
       "34  Quân đội Nga – Syria hợp sức không kích, phiến...  "
      ]
     },
     "execution_count": 6,
     "metadata": {},
     "output_type": "execute_result"
    }
   ],
   "source": [
    "baomoi.head(15)"
   ]
  },
  {
   "cell_type": "markdown",
   "metadata": {},
   "source": [
    "# Build train and test dataset (3000 and 2000 samples, respectively), then create document vectors"
   ]
  },
  {
   "cell_type": "code",
   "execution_count": 7,
   "metadata": {},
   "outputs": [],
   "source": [
    "from sklearn.model_selection import train_test_split\n",
    "from sklearn.feature_extraction.text import CountVectorizer\n",
    "from sklearn.feature_extraction.text import TfidfVectorizer\n",
    "import underthesea"
   ]
  },
  {
   "cell_type": "code",
   "execution_count": 8,
   "metadata": {},
   "outputs": [],
   "source": [
    "X = baomoi.content\n",
    "y = baomoi.article"
   ]
  },
  {
   "cell_type": "code",
   "execution_count": 9,
   "metadata": {},
   "outputs": [],
   "source": [
    "vectorizer = TfidfVectorizer(analyzer=underthesea.word_tokenize)\n",
    "X = vectorizer.fit_transform(X)"
   ]
  },
  {
   "cell_type": "code",
   "execution_count": 10,
   "metadata": {},
   "outputs": [],
   "source": [
    "X_train = X.toarray()[:3000]\n",
    "X_test = X.toarray()[3000:5000]\n",
    "y_train = y[:3000]\n",
    "y_test = y[3000:5000]"
   ]
  },
  {
   "cell_type": "markdown",
   "metadata": {},
   "source": [
    "# Build classification model based on vectorized documents"
   ]
  },
  {
   "cell_type": "code",
   "execution_count": 11,
   "metadata": {},
   "outputs": [],
   "source": [
    "from sklearn import linear_model\n",
    "from sklearn.linear_model import LogisticRegression\n",
    "from sklearn.ensemble import RandomForestClassifier\n",
    "from sklearn.linear_model import Perceptron\n",
    "from sklearn.linear_model import SGDClassifier\n",
    "from sklearn.tree import DecisionTreeClassifier\n",
    "from sklearn.neighbors import KNeighborsClassifier\n",
    "from sklearn.svm import SVC, LinearSVC\n",
    "from sklearn.naive_bayes import GaussianNB"
   ]
  },
  {
   "cell_type": "code",
   "execution_count": 12,
   "metadata": {},
   "outputs": [
    {
     "name": "stderr",
     "output_type": "stream",
     "text": [
      "E:\\Anaconda3\\lib\\site-packages\\sklearn\\linear_model\\stochastic_gradient.py:183: FutureWarning: max_iter and tol parameters have been added in SGDClassifier in 0.19. If max_iter is set but tol is left unset, the default value for tol in 0.19 and 0.20 will be None (which is equivalent to -infinity, so it has no effect) but will change in 0.21 to 1e-3. Specify tol to silence this warning.\n",
      "  FutureWarning)\n"
     ]
    }
   ],
   "source": [
    "#SGD\n",
    "sgd = linear_model.SGDClassifier(max_iter=5, tol=None)\n",
    "sgd.fit(X_train, y_train)\n",
    "sgd.score(X_train, y_train)\n",
    "acc_sgd = round(sgd.score(X_train, y_train) * 100, 2)\n",
    "pred_sgd = round(sgd.score(X_test, y_test) * 100, 2)"
   ]
  },
  {
   "cell_type": "code",
   "execution_count": 13,
   "metadata": {},
   "outputs": [
    {
     "name": "stderr",
     "output_type": "stream",
     "text": [
      "E:\\Anaconda3\\lib\\site-packages\\sklearn\\linear_model\\logistic.py:433: FutureWarning: Default solver will be changed to 'lbfgs' in 0.22. Specify a solver to silence this warning.\n",
      "  FutureWarning)\n",
      "E:\\Anaconda3\\lib\\site-packages\\sklearn\\linear_model\\logistic.py:460: FutureWarning: Default multi_class will be changed to 'auto' in 0.22. Specify the multi_class option to silence this warning.\n",
      "  \"this warning.\", FutureWarning)\n"
     ]
    }
   ],
   "source": [
    "#logistic regression\n",
    "logreg = LogisticRegression()\n",
    "logreg.fit(X_train, y_train)\n",
    "acc_log = round(logreg.score(X_train, y_train) * 100, 2)\n",
    "pred_log = round(logreg.score(X_test, y_test) * 100, 2)"
   ]
  },
  {
   "cell_type": "code",
   "execution_count": 14,
   "metadata": {},
   "outputs": [],
   "source": [
    "#K nearest neighbors\n",
    "knn = KNeighborsClassifier(n_neighbors = 3)\n",
    "knn.fit(X_train, y_train) \n",
    "acc_knn = round(knn.score(X_train, y_train) * 100, 2)\n",
    "pred_knn = round(knn.score(X_test, y_test) * 100, 2)"
   ]
  },
  {
   "cell_type": "code",
   "execution_count": 20,
   "metadata": {},
   "outputs": [],
   "source": [
    "#SVM\n",
    "linear_svc = LinearSVC()\n",
    "linear_svc.fit(X_train, y_train)\n",
    "acc_linear_svc = round(linear_svc.score(X_train, y_train) * 100, 2)\n",
    "pred_linear_svc = round(linear_svc.score(X_test, y_test) * 100, 2)"
   ]
  },
  {
   "cell_type": "code",
   "execution_count": 21,
   "metadata": {},
   "outputs": [],
   "source": [
    "#Decision tree\n",
    "decision_tree = DecisionTreeClassifier()\n",
    "decision_tree.fit(X_train, y_train)\n",
    "acc_decision_tree = round(decision_tree.score(X_train, y_train) * 100, 2)\n",
    "pred_decision_tree = round(decision_tree.score(X_test, y_test) * 100, 2)"
   ]
  },
  {
   "cell_type": "code",
   "execution_count": 22,
   "metadata": {},
   "outputs": [],
   "source": [
    "#Random forest\n",
    "random_forest = RandomForestClassifier(n_estimators=100)\n",
    "random_forest.fit(X_train, y_train)\n",
    "acc_random_forest = round(random_forest.score(X_train, y_train) * 100, 2)\n",
    "pred_random_forest = round(random_forest.score(X_test, y_test) * 100, 2)"
   ]
  },
  {
   "cell_type": "markdown",
   "metadata": {},
   "source": [
    "# Result"
   ]
  },
  {
   "cell_type": "code",
   "execution_count": 25,
   "metadata": {},
   "outputs": [
    {
     "data": {
      "text/html": [
       "<div>\n",
       "<style scoped>\n",
       "    .dataframe tbody tr th:only-of-type {\n",
       "        vertical-align: middle;\n",
       "    }\n",
       "\n",
       "    .dataframe tbody tr th {\n",
       "        vertical-align: top;\n",
       "    }\n",
       "\n",
       "    .dataframe thead th {\n",
       "        text-align: right;\n",
       "    }\n",
       "</style>\n",
       "<table border=\"1\" class=\"dataframe\">\n",
       "  <thead>\n",
       "    <tr style=\"text-align: right;\">\n",
       "      <th></th>\n",
       "      <th>Model</th>\n",
       "      <th>Train_Score</th>\n",
       "      <th>Test_score</th>\n",
       "    </tr>\n",
       "  </thead>\n",
       "  <tbody>\n",
       "    <tr>\n",
       "      <th>3</th>\n",
       "      <td>Random Forest</td>\n",
       "      <td>100.00</td>\n",
       "      <td>85.50</td>\n",
       "    </tr>\n",
       "    <tr>\n",
       "      <th>5</th>\n",
       "      <td>Decision Tree</td>\n",
       "      <td>100.00</td>\n",
       "      <td>72.50</td>\n",
       "    </tr>\n",
       "    <tr>\n",
       "      <th>0</th>\n",
       "      <td>Support Vector Machines</td>\n",
       "      <td>99.93</td>\n",
       "      <td>93.95</td>\n",
       "    </tr>\n",
       "    <tr>\n",
       "      <th>4</th>\n",
       "      <td>Stochastic Gradient Decent</td>\n",
       "      <td>99.90</td>\n",
       "      <td>93.35</td>\n",
       "    </tr>\n",
       "    <tr>\n",
       "      <th>2</th>\n",
       "      <td>Logistic Regression</td>\n",
       "      <td>97.93</td>\n",
       "      <td>90.75</td>\n",
       "    </tr>\n",
       "    <tr>\n",
       "      <th>1</th>\n",
       "      <td>KNN</td>\n",
       "      <td>97.23</td>\n",
       "      <td>83.20</td>\n",
       "    </tr>\n",
       "  </tbody>\n",
       "</table>\n",
       "</div>"
      ],
      "text/plain": [
       "                        Model  Train_Score  Test_score\n",
       "3               Random Forest       100.00       85.50\n",
       "5               Decision Tree       100.00       72.50\n",
       "0     Support Vector Machines        99.93       93.95\n",
       "4  Stochastic Gradient Decent        99.90       93.35\n",
       "2         Logistic Regression        97.93       90.75\n",
       "1                         KNN        97.23       83.20"
      ]
     },
     "execution_count": 25,
     "metadata": {},
     "output_type": "execute_result"
    }
   ],
   "source": [
    "results = pd.DataFrame({\n",
    "    'Model': ['Support Vector Machines', 'KNN', 'Logistic Regression', \n",
    "              'Random Forest', 'Stochastic Gradient Decent', 'Decision Tree'],\n",
    "    'Train_Score': [acc_linear_svc, acc_knn, acc_log, \n",
    "              acc_random_forest, acc_sgd, acc_decision_tree],\n",
    "    'Test_score': [pred_linear_svc, pred_knn, pred_log, \n",
    "              pred_random_forest, pred_sgd, pred_decision_tree]})\n",
    "result_df = results.sort_values(by='Train_Score', ascending=False)\n",
    "result_df"
   ]
  },
  {
   "cell_type": "code",
   "execution_count": null,
   "metadata": {},
   "outputs": [],
   "source": []
  }
 ],
 "metadata": {
  "kernelspec": {
   "display_name": "Python 3",
   "language": "python",
   "name": "python3"
  },
  "language_info": {
   "codemirror_mode": {
    "name": "ipython",
    "version": 3
   },
   "file_extension": ".py",
   "mimetype": "text/x-python",
   "name": "python",
   "nbconvert_exporter": "python",
   "pygments_lexer": "ipython3",
   "version": "3.7.0"
  }
 },
 "nbformat": 4,
 "nbformat_minor": 2
}
